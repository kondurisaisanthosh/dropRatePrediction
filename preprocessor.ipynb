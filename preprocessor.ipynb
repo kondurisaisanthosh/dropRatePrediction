{
 "cells": [
  {
   "cell_type": "code",
   "execution_count": null,
   "metadata": {},
   "outputs": [],
   "source": [
    "import pandas as pd\n",
    "import numpy as np\n",
    "import collections\n",
    "from collections import Counter\n",
    "\n",
    "\n",
    "def coursesEveryUser(enr):\n",
    "    b = dict(collections.Counter(enr.username).items())\n",
    "    username = list(b.keys())\n",
    "    num_course = list(b.values())\n",
    "    df = pd.DataFrame({'username':username,'num_course':num_course})\n",
    "    df.to_csv(\"coursesEveryUser.csv\")\n",
    "    \n",
    "\n",
    "def usersEveryCourse(enr):\n",
    "    b = dict(collections.Counter(enr.course_id).items())\n",
    "    course_id = list(b.keys())\n",
    "    num_user = list(b.values())\n",
    "    df = pd.DataFrame({'course_id':course_id,'num_user':num_user})\n",
    "    df.to_csv(\"usersEveryCourse.csv\")\n",
    "\n",
    "\n",
    "def coursesEveryEnrollment(enr):\n",
    "    coursesEveryUser = pd.read_csv(\"coursesEveryUser.csv\")\n",
    "    df = enr\n",
    "    df = df.merge(coursesEveryUser, on = 'username', how='left')\n",
    "    df.to_csv(\"coursesEveryEnrollment_test.csv\")\n",
    "\n",
    "    \n",
    "    \n",
    "def numOfLog(log, enr):\n",
    "    df = pd.DataFrame(np.zeros((log.shape[0],2)),columns = ['enrollment_id','num_log'])\n",
    "    df[\"enrollment_id\"] = enr[\"enrollment_id\"]\n",
    "    for i in range(enr.shape[0]):\n",
    "        df[\"num_log\"][i] = log[log.enrollment_id == i].shape[0]\n",
    "    df.to_csv(\"numOfLog.csv\")\n",
    "\n",
    "\n",
    "if __name__ == '__main__':\n",
    "    log = pd.read_csv(\"log_train.csv\")\n",
    "    enr_train = pd.read_csv(\"enrollment_train.csv\")\n",
    "    enr_test = pd.read_csv(\"enrollment_test.csv\")\n",
    "    coursesEveryUser(enr_train)\n",
    "    usersEveryCourse(enr_train)\n",
    "    coursesEveryEnrollment(enr_test)\n",
    "    numOfLog(log, enr_train)\n",
    "    log1 = log[log.enrollment_id == 1]\n",
    "    nameList = []\n",
    "    print(log1.to_string())\n",
    "    print(log[(log.event == 'nagivate') & (log.source == 'server')])\n",
    "    print(log.query(\"event == 'nagivate' and source == 'server'\"))"
   ]
  }
 ],
 "metadata": {
  "kernelspec": {
   "display_name": "Python 3",
   "language": "python",
   "name": "python3"
  },
  "language_info": {
   "codemirror_mode": {
    "name": "ipython",
    "version": 3
   },
   "file_extension": ".py",
   "mimetype": "text/x-python",
   "name": "python",
   "nbconvert_exporter": "python",
   "pygments_lexer": "ipython3",
   "version": "3.7.3"
  }
 },
 "nbformat": 4,
 "nbformat_minor": 2
}
